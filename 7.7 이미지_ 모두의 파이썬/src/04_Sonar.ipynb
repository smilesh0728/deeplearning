{
 "cells": [
  {
   "cell_type": "code",
   "execution_count": 16,
   "metadata": {},
   "outputs": [
    {
     "data": {
      "text/plain": [
       "array(['R', 'M'], dtype=object)"
      ]
     },
     "execution_count": 16,
     "metadata": {},
     "output_type": "execute_result"
    }
   ],
   "source": [
    "from keras.models import Sequential\n",
    "from keras.layers.core import Dense\n",
    "from sklearn.preprocessing import LabelEncoder\n",
    "\n",
    "import pandas as pd\n",
    "import numpy\n",
    "import tensorflow as tf\n",
    "\n",
    "# seed 값 설정\n",
    "numpy.random.seed(3)\n",
    "tf.random.set_seed(3)\n",
    "\n",
    "# 데이터 입력\n",
    "df = pd.read_csv('../dataset/sonar.csv', header=None)\n",
    "'''\n",
    "# 데이터 개괄 보기\n",
    "print(df.info())\n",
    "\n",
    "# 데이터의 일부분 미리 보기\n",
    "print(df.head())\n",
    "'''\n",
    "df[60].unique()"
   ]
  },
  {
   "cell_type": "code",
   "execution_count": 10,
   "metadata": {},
   "outputs": [
    {
     "name": "stdout",
     "output_type": "stream",
     "text": [
      "Epoch 1/2\n",
      "208/208 [==============================] - 0s 1ms/step - loss: 0.2501 - accuracy: 0.5288\n",
      "Epoch 2/2\n",
      "208/208 [==============================] - 0s 288us/step - loss: 0.2398 - accuracy: 0.5913\n",
      "208/208 [==============================] - 0s 115us/step\n",
      "\n",
      " Accuracy: 0.6635\n"
     ]
    }
   ],
   "source": [
    "from keras.models import Sequential\n",
    "from keras.layers.core import Dense\n",
    "from sklearn.preprocessing import LabelEncoder\n",
    "\n",
    "import pandas as pd\n",
    "import numpy\n",
    "import tensorflow as tf\n",
    "\n",
    "# seed 값 설정\n",
    "numpy.random.seed(3)\n",
    "tf.random.set_seed(3)\n",
    "\n",
    "# 데이터 입력\n",
    "df = pd.read_csv('../dataset/sonar.csv', header=None)\n",
    "'''\n",
    "# 데이터 개괄 보기\n",
    "print(df.info())\n",
    "\n",
    "# 데이터의 일부분 미리 보기\n",
    "print(df.head())\n",
    "'''\n",
    "dataset = df.values\n",
    "X = dataset[:,0:60]\n",
    "Y_obj = dataset[:,60]\n",
    "\n",
    "# 문자열 변환\n",
    "e = LabelEncoder()\n",
    "e.fit(Y_obj)\n",
    "Y = e.transform(Y_obj)\n",
    "\n",
    "# 모델 설정\n",
    "model = Sequential()\n",
    "model.add(Dense(24,  input_dim=60, activation='relu'))\n",
    "model.add(Dense(10, activation='relu'))\n",
    "model.add(Dense(1, activation='sigmoid'))\n",
    "\n",
    "# 모델 컴파일\n",
    "model.compile(loss='mean_squared_error',\n",
    "            optimizer='adam',\n",
    "            metrics=['accuracy'])\n",
    "\n",
    "# 모델 실행\n",
    "model.fit(X, Y, epochs=200, batch_size=5)\n",
    "\n",
    "# 결과 출력\n",
    "print(\"\\n Accuracy: %.4f\" % (model.evaluate(X, Y)[1]))\n"
   ]
  },
  {
   "cell_type": "code",
   "execution_count": null,
   "metadata": {},
   "outputs": [],
   "source": []
  }
 ],
 "metadata": {
  "kernelspec": {
   "display_name": "Python 3",
   "language": "python",
   "name": "python3"
  },
  "language_info": {
   "codemirror_mode": {
    "name": "ipython",
    "version": 3
   },
   "file_extension": ".py",
   "mimetype": "text/x-python",
   "name": "python",
   "nbconvert_exporter": "python",
   "pygments_lexer": "ipython3",
   "version": "3.7.6"
  },
  "toc": {
   "base_numbering": 1,
   "nav_menu": {},
   "number_sections": false,
   "sideBar": true,
   "skip_h1_title": false,
   "title_cell": "Table of Contents",
   "title_sidebar": "Contents",
   "toc_cell": false,
   "toc_position": {},
   "toc_section_display": true,
   "toc_window_display": false
  }
 },
 "nbformat": 4,
 "nbformat_minor": 2
}
