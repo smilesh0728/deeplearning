{
 "cells": [
  {
   "cell_type": "markdown",
   "metadata": {},
   "source": [
    "ThoraricSurgery.csv\n",
    "- 폴란드 브로츠와프 의과대학에서 2013년 공개한 폐암 수술 환자의  \n",
    " 수술 전 진단 데이터와 수술 후 생존 결과를 기록한 실제 의료 기록 데이터\n",
    " \n",
    " \n",
    " \n",
    "- 1~17 : 종양의 유형, 폐활량, 호흡관란여부, 고통정도, 기침, 흡연, 천식 여부 등\n",
    "- 18: 수술 후 생존 결과(1: 생존, 0: 사망)"
   ]
  },
  {
   "cell_type": "code",
   "execution_count": 1,
   "metadata": {},
   "outputs": [],
   "source": [
    "# 딥러닝을 구동하는 데 필요한 케라스 함수를 불러옵니다.\n",
    "from tensorflow.keras.models import Sequential\n",
    "from tensorflow.keras.layers import Dense\n",
    "\n",
    "# 필요한 라이브러리를 불러옵니다.\n",
    "import numpy as np\n",
    "import tensorflow as tf"
   ]
  },
  {
   "cell_type": "code",
   "execution_count": 2,
   "metadata": {},
   "outputs": [],
   "source": [
    "# 실행할 때마다 같은 결과를 출력하기 위해 설정하는 부분입니다.\n",
    "np.random.seed(3)\n",
    "tf.random.set_seed(3)"
   ]
  },
  {
   "cell_type": "markdown",
   "metadata": {},
   "source": [
    "## 1.  데이터 읽어오기"
   ]
  },
  {
   "cell_type": "code",
   "execution_count": 11,
   "metadata": {},
   "outputs": [],
   "source": [
    "# 준비된 수술 환자 데이터를 불러들입니다.\n",
    "Data_set = np.loadtxt(\"../dataset/ThoraricSurgery.csv\", delimiter=\",\")"
   ]
  },
  {
   "cell_type": "code",
   "execution_count": 12,
   "metadata": {},
   "outputs": [],
   "source": [
    "# 데이터프레임으로 읽어오기\n",
    "\n",
    "# import pandas as pd\n",
    "# Data_set = pd.read_csv(\"../dataset/ThoraricSurgery.csv\", header = None)\n",
    "# dataArray = Data_set.values\n",
    "# X = dataArray[:,0:17].astype(float)\n",
    "# Y = dataArray[:,17].astype(float)"
   ]
  },
  {
   "cell_type": "markdown",
   "metadata": {},
   "source": [
    "## 2.  데이터 전처리"
   ]
  },
  {
   "cell_type": "code",
   "execution_count": 13,
   "metadata": {},
   "outputs": [],
   "source": [
    "# 환자의 기록과 수술 결과를 X와 Y로 구분하여 저장합니다.\n",
    "X = Data_set[:,0:17]\n",
    "Y = Data_set[:,17]"
   ]
  },
  {
   "cell_type": "markdown",
   "metadata": {},
   "source": [
    "## 3. 모델 설계"
   ]
  },
  {
   "cell_type": "code",
   "execution_count": 14,
   "metadata": {},
   "outputs": [
    {
     "name": "stdout",
     "output_type": "stream",
     "text": [
      "WARNING:tensorflow:From C:\\Users\\ILIFO032\\anaconda3\\lib\\site-packages\\tensorflow\\python\\ops\\init_ops.py:1251: calling VarianceScaling.__init__ (from tensorflow.python.ops.init_ops) with dtype is deprecated and will be removed in a future version.\n",
      "Instructions for updating:\n",
      "Call initializer instance with the dtype argument instead of passing it to the constructor\n"
     ]
    }
   ],
   "source": [
    "# 딥러닝 구조를 결정합니다(모델을 설정하고 실행하는 부분입니다).\n",
    "model = Sequential()\n",
    "\n",
    "# 입력데이터 17개의 값을 받아 은닉층 30개 노드로 보낸다\n",
    "model.add(Dense(30, input_dim=17, activation='relu'))\n",
    "model.add(Dense(1, activation='sigmoid'))"
   ]
  },
  {
   "cell_type": "markdown",
   "metadata": {},
   "source": [
    "## 4. 모델 컴파일"
   ]
  },
  {
   "cell_type": "code",
   "execution_count": 15,
   "metadata": {},
   "outputs": [],
   "source": [
    "# 딥러닝을 실행합니다.\n",
    "model.compile(loss='mean_squared_error', optimizer='adam', metrics=['accuracy'])"
   ]
  },
  {
   "cell_type": "markdown",
   "metadata": {},
   "source": [
    "## 5. 학습"
   ]
  },
  {
   "cell_type": "code",
   "execution_count": 16,
   "metadata": {},
   "outputs": [
    {
     "name": "stdout",
     "output_type": "stream",
     "text": [
      "Epoch 1/100\n",
      "470/470 [==============================] - 0s 237us/sample - loss: 0.1491 - acc: 0.8511\n",
      "Epoch 2/100\n",
      "470/470 [==============================] - 0s 70us/sample - loss: 0.1487 - acc: 0.8511\n",
      "Epoch 3/100\n",
      "470/470 [==============================] - 0s 75us/sample - loss: 0.1487 - acc: 0.8511\n",
      "Epoch 4/100\n",
      "470/470 [==============================] - 0s 71us/sample - loss: 0.1486 - acc: 0.8511\n",
      "Epoch 5/100\n",
      "470/470 [==============================] - 0s 72us/sample - loss: 0.1501 - acc: 0.8468\n",
      "Epoch 6/100\n",
      "470/470 [==============================] - 0s 70us/sample - loss: 0.1489 - acc: 0.8511\n",
      "Epoch 7/100\n",
      "470/470 [==============================] - 0s 72us/sample - loss: 0.1489 - acc: 0.8511\n",
      "Epoch 8/100\n",
      "470/470 [==============================] - 0s 75us/sample - loss: 0.1489 - acc: 0.8511\n",
      "Epoch 9/100\n",
      "470/470 [==============================] - 0s 70us/sample - loss: 0.1489 - acc: 0.8511\n",
      "Epoch 10/100\n",
      "470/470 [==============================] - 0s 72us/sample - loss: 0.1489 - acc: 0.8511\n",
      "Epoch 11/100\n",
      "470/470 [==============================] - 0s 70us/sample - loss: 0.1489 - acc: 0.8511\n",
      "Epoch 12/100\n",
      "470/470 [==============================] - 0s 73us/sample - loss: 0.1489 - acc: 0.8511\n",
      "Epoch 13/100\n",
      "470/470 [==============================] - 0s 78us/sample - loss: 0.1489 - acc: 0.8511\n",
      "Epoch 14/100\n",
      "470/470 [==============================] - 0s 67us/sample - loss: 0.1488 - acc: 0.8511\n",
      "Epoch 15/100\n",
      "470/470 [==============================] - 0s 70us/sample - loss: 0.1494 - acc: 0.8489\n",
      "Epoch 16/100\n",
      "470/470 [==============================] - 0s 75us/sample - loss: 0.1489 - acc: 0.8511\n",
      "Epoch 17/100\n",
      "470/470 [==============================] - 0s 68us/sample - loss: 0.1489 - acc: 0.8511\n",
      "Epoch 18/100\n",
      "470/470 [==============================] - 0s 69us/sample - loss: 0.1489 - acc: 0.8511\n",
      "Epoch 19/100\n",
      "470/470 [==============================] - 0s 75us/sample - loss: 0.1489 - acc: 0.8511\n",
      "Epoch 20/100\n",
      "470/470 [==============================] - 0s 74us/sample - loss: 0.1489 - acc: 0.8511\n",
      "Epoch 21/100\n",
      "470/470 [==============================] - 0s 70us/sample - loss: 0.1489 - acc: 0.8511\n",
      "Epoch 22/100\n",
      "470/470 [==============================] - 0s 74us/sample - loss: 0.1489 - acc: 0.8511\n",
      "Epoch 23/100\n",
      "470/470 [==============================] - 0s 73us/sample - loss: 0.1489 - acc: 0.8511\n",
      "Epoch 24/100\n",
      "470/470 [==============================] - 0s 69us/sample - loss: 0.1489 - acc: 0.8511\n",
      "Epoch 25/100\n",
      "470/470 [==============================] - 0s 72us/sample - loss: 0.1488 - acc: 0.8511\n",
      "Epoch 26/100\n",
      "470/470 [==============================] - 0s 71us/sample - loss: 0.1529 - acc: 0.8426\n",
      "Epoch 27/100\n",
      "470/470 [==============================] - 0s 70us/sample - loss: 0.1489 - acc: 0.8511\n",
      "Epoch 28/100\n",
      "470/470 [==============================] - 0s 74us/sample - loss: 0.1489 - acc: 0.8511\n",
      "Epoch 29/100\n",
      "470/470 [==============================] - 0s 69us/sample - loss: 0.1489 - acc: 0.8511\n",
      "Epoch 30/100\n",
      "470/470 [==============================] - 0s 71us/sample - loss: 0.1488 - acc: 0.8511\n",
      "Epoch 31/100\n",
      "470/470 [==============================] - 0s 72us/sample - loss: 0.1486 - acc: 0.8511\n",
      "Epoch 32/100\n",
      "470/470 [==============================] - 0s 70us/sample - loss: 0.1495 - acc: 0.8468\n",
      "Epoch 33/100\n",
      "470/470 [==============================] - 0s 70us/sample - loss: 0.1489 - acc: 0.8511\n",
      "Epoch 34/100\n",
      "470/470 [==============================] - 0s 71us/sample - loss: 0.1489 - acc: 0.8511\n",
      "Epoch 35/100\n",
      "470/470 [==============================] - 0s 74us/sample - loss: 0.1488 - acc: 0.8511\n",
      "Epoch 36/100\n",
      "470/470 [==============================] - 0s 74us/sample - loss: 0.1487 - acc: 0.8511\n",
      "Epoch 37/100\n",
      "470/470 [==============================] - 0s 73us/sample - loss: 0.1482 - acc: 0.8511\n",
      "Epoch 38/100\n",
      "470/470 [==============================] - 0s 69us/sample - loss: 0.1470 - acc: 0.8511\n",
      "Epoch 39/100\n",
      "470/470 [==============================] - 0s 70us/sample - loss: 0.1529 - acc: 0.8447\n",
      "Epoch 40/100\n",
      "470/470 [==============================] - 0s 70us/sample - loss: 0.1464 - acc: 0.8489\n",
      "Epoch 41/100\n",
      "470/470 [==============================] - 0s 71us/sample - loss: 0.1488 - acc: 0.8489\n",
      "Epoch 42/100\n",
      "470/470 [==============================] - 0s 71us/sample - loss: 0.1489 - acc: 0.8511\n",
      "Epoch 43/100\n",
      "470/470 [==============================] - 0s 68us/sample - loss: 0.1489 - acc: 0.8511\n",
      "Epoch 44/100\n",
      "470/470 [==============================] - 0s 70us/sample - loss: 0.1489 - acc: 0.8511\n",
      "Epoch 45/100\n",
      "470/470 [==============================] - 0s 69us/sample - loss: 0.1489 - acc: 0.8511\n",
      "Epoch 46/100\n",
      "470/470 [==============================] - 0s 70us/sample - loss: 0.1489 - acc: 0.8511\n",
      "Epoch 47/100\n",
      "470/470 [==============================] - 0s 73us/sample - loss: 0.1489 - acc: 0.8511\n",
      "Epoch 48/100\n",
      "470/470 [==============================] - 0s 72us/sample - loss: 0.1489 - acc: 0.8511\n",
      "Epoch 49/100\n",
      "470/470 [==============================] - 0s 70us/sample - loss: 0.1489 - acc: 0.8511\n",
      "Epoch 50/100\n",
      "470/470 [==============================] - 0s 73us/sample - loss: 0.1489 - acc: 0.8511\n",
      "Epoch 51/100\n",
      "470/470 [==============================] - 0s 77us/sample - loss: 0.1489 - acc: 0.8511\n",
      "Epoch 52/100\n",
      "470/470 [==============================] - 0s 68us/sample - loss: 0.1489 - acc: 0.8511\n",
      "Epoch 53/100\n",
      "470/470 [==============================] - 0s 68us/sample - loss: 0.1489 - acc: 0.8511\n",
      "Epoch 54/100\n",
      "470/470 [==============================] - 0s 71us/sample - loss: 0.1488 - acc: 0.8511\n",
      "Epoch 55/100\n",
      "470/470 [==============================] - 0s 70us/sample - loss: 0.1486 - acc: 0.8511\n",
      "Epoch 56/100\n",
      "470/470 [==============================] - 0s 68us/sample - loss: 0.1478 - acc: 0.8511\n",
      "Epoch 57/100\n",
      "470/470 [==============================] - 0s 73us/sample - loss: 0.1486 - acc: 0.8511\n",
      "Epoch 58/100\n",
      "470/470 [==============================] - 0s 71us/sample - loss: 0.1461 - acc: 0.8532\n",
      "Epoch 59/100\n",
      "470/470 [==============================] - 0s 68us/sample - loss: 0.1455 - acc: 0.8532\n",
      "Epoch 60/100\n",
      "470/470 [==============================] - 0s 73us/sample - loss: 0.1487 - acc: 0.8511\n",
      "Epoch 61/100\n",
      "470/470 [==============================] - 0s 69us/sample - loss: 0.1490 - acc: 0.8489\n",
      "Epoch 62/100\n",
      "470/470 [==============================] - 0s 70us/sample - loss: 0.1487 - acc: 0.8511\n",
      "Epoch 63/100\n",
      "470/470 [==============================] - 0s 73us/sample - loss: 0.1485 - acc: 0.8511\n",
      "Epoch 64/100\n",
      "470/470 [==============================] - 0s 73us/sample - loss: 0.1444 - acc: 0.8532\n",
      "Epoch 65/100\n",
      "470/470 [==============================] - 0s 73us/sample - loss: 0.1555 - acc: 0.8383\n",
      "Epoch 66/100\n",
      "470/470 [==============================] - 0s 69us/sample - loss: 0.1461 - acc: 0.8532\n",
      "Epoch 67/100\n",
      "470/470 [==============================] - 0s 72us/sample - loss: 0.1476 - acc: 0.8489\n",
      "Epoch 68/100\n",
      "470/470 [==============================] - 0s 72us/sample - loss: 0.1454 - acc: 0.8532\n",
      "Epoch 69/100\n",
      "470/470 [==============================] - 0s 76us/sample - loss: 0.1441 - acc: 0.8553\n",
      "Epoch 70/100\n",
      "470/470 [==============================] - 0s 72us/sample - loss: 0.1474 - acc: 0.8468\n",
      "Epoch 71/100\n",
      "470/470 [==============================] - 0s 68us/sample - loss: 0.1470 - acc: 0.8511\n",
      "Epoch 72/100\n",
      "470/470 [==============================] - 0s 70us/sample - loss: 0.1459 - acc: 0.8532\n",
      "Epoch 73/100\n",
      "470/470 [==============================] - 0s 71us/sample - loss: 0.1443 - acc: 0.8532\n",
      "Epoch 74/100\n",
      "470/470 [==============================] - 0s 72us/sample - loss: 0.1434 - acc: 0.8553\n",
      "Epoch 75/100\n",
      "470/470 [==============================] - 0s 69us/sample - loss: 0.1442 - acc: 0.8553\n",
      "Epoch 76/100\n",
      "470/470 [==============================] - 0s 68us/sample - loss: 0.1435 - acc: 0.8574\n",
      "Epoch 77/100\n",
      "470/470 [==============================] - 0s 71us/sample - loss: 0.1444 - acc: 0.8553\n",
      "Epoch 78/100\n",
      "470/470 [==============================] - 0s 68us/sample - loss: 0.1443 - acc: 0.8553\n",
      "Epoch 79/100\n",
      "470/470 [==============================] - 0s 71us/sample - loss: 0.1435 - acc: 0.8553\n",
      "Epoch 80/100\n",
      "470/470 [==============================] - 0s 73us/sample - loss: 0.1436 - acc: 0.8553\n",
      "Epoch 81/100\n",
      "470/470 [==============================] - 0s 67us/sample - loss: 0.1440 - acc: 0.8553\n",
      "Epoch 82/100\n",
      "470/470 [==============================] - 0s 68us/sample - loss: 0.1430 - acc: 0.8574\n",
      "Epoch 83/100\n"
     ]
    },
    {
     "name": "stdout",
     "output_type": "stream",
     "text": [
      "470/470 [==============================] - 0s 69us/sample - loss: 0.1448 - acc: 0.8553\n",
      "Epoch 84/100\n",
      "470/470 [==============================] - 0s 71us/sample - loss: 0.1438 - acc: 0.8553\n",
      "Epoch 85/100\n",
      "470/470 [==============================] - 0s 68us/sample - loss: 0.1439 - acc: 0.8553\n",
      "Epoch 86/100\n",
      "470/470 [==============================] - 0s 68us/sample - loss: 0.1429 - acc: 0.8532\n",
      "Epoch 87/100\n",
      "470/470 [==============================] - 0s 66us/sample - loss: 0.1423 - acc: 0.8574\n",
      "Epoch 88/100\n",
      "470/470 [==============================] - 0s 68us/sample - loss: 0.1426 - acc: 0.8574\n",
      "Epoch 89/100\n",
      "470/470 [==============================] - 0s 70us/sample - loss: 0.1453 - acc: 0.8553\n",
      "Epoch 90/100\n",
      "470/470 [==============================] - 0s 76us/sample - loss: 0.1418 - acc: 0.8553\n",
      "Epoch 91/100\n",
      "470/470 [==============================] - 0s 70us/sample - loss: 0.1432 - acc: 0.8574\n",
      "Epoch 92/100\n",
      "470/470 [==============================] - 0s 68us/sample - loss: 0.1446 - acc: 0.8511\n",
      "Epoch 93/100\n",
      "470/470 [==============================] - 0s 67us/sample - loss: 0.1435 - acc: 0.8532\n",
      "Epoch 94/100\n",
      "470/470 [==============================] - 0s 67us/sample - loss: 0.1409 - acc: 0.8553\n",
      "Epoch 95/100\n",
      "470/470 [==============================] - 0s 67us/sample - loss: 0.1481 - acc: 0.8468\n",
      "Epoch 96/100\n",
      "470/470 [==============================] - 0s 67us/sample - loss: 0.1489 - acc: 0.8511\n",
      "Epoch 97/100\n",
      "470/470 [==============================] - 0s 67us/sample - loss: 0.1489 - acc: 0.8511\n",
      "Epoch 98/100\n",
      "470/470 [==============================] - 0s 67us/sample - loss: 0.1489 - acc: 0.8511\n",
      "Epoch 99/100\n",
      "470/470 [==============================] - 0s 68us/sample - loss: 0.1489 - acc: 0.8511\n",
      "Epoch 100/100\n",
      "470/470 [==============================] - 0s 69us/sample - loss: 0.1489 - acc: 0.8511\n"
     ]
    },
    {
     "data": {
      "text/plain": [
       "<tensorflow.python.keras.callbacks.History at 0x240b0fd8f48>"
      ]
     },
     "execution_count": 16,
     "metadata": {},
     "output_type": "execute_result"
    }
   ],
   "source": [
    "# epoch= 100: 샘플이 처음부터 끝까지 100번 재사용될 때까지 실행을 반복\n",
    "# batch_size = 10: 전체 470개 샘플을 10개씩 끊어서 집어넣기\n",
    "model.fit(X, Y, epochs=100, batch_size=10)"
   ]
  },
  {
   "cell_type": "code",
   "execution_count": 9,
   "metadata": {},
   "outputs": [
    {
     "name": "stdout",
     "output_type": "stream",
     "text": [
      "Model: \"sequential\"\n",
      "_________________________________________________________________\n",
      "Layer (type)                 Output Shape              Param #   \n",
      "=================================================================\n",
      "dense (Dense)                (None, 30)                540       \n",
      "_________________________________________________________________\n",
      "dense_1 (Dense)              (None, 1)                 31        \n",
      "=================================================================\n",
      "Total params: 571\n",
      "Trainable params: 571\n",
      "Non-trainable params: 0\n",
      "_________________________________________________________________\n"
     ]
    }
   ],
   "source": [
    "model.summary()"
   ]
  },
  {
   "cell_type": "code",
   "execution_count": null,
   "metadata": {},
   "outputs": [],
   "source": []
  }
 ],
 "metadata": {
  "kernelspec": {
   "display_name": "Python 3",
   "language": "python",
   "name": "python3"
  },
  "language_info": {
   "codemirror_mode": {
    "name": "ipython",
    "version": 3
   },
   "file_extension": ".py",
   "mimetype": "text/x-python",
   "name": "python",
   "nbconvert_exporter": "python",
   "pygments_lexer": "ipython3",
   "version": "3.7.6"
  },
  "toc": {
   "base_numbering": 1,
   "nav_menu": {},
   "number_sections": false,
   "sideBar": true,
   "skip_h1_title": false,
   "title_cell": "Table of Contents",
   "title_sidebar": "Contents",
   "toc_cell": false,
   "toc_position": {},
   "toc_section_display": true,
   "toc_window_display": false
  }
 },
 "nbformat": 4,
 "nbformat_minor": 2
}
